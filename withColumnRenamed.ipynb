{
 "cells": [
  {
   "cell_type": "code",
   "execution_count": 0,
   "metadata": {
    "application/vnd.databricks.v1+cell": {
     "cellMetadata": {
      "byteLimit": 2048000,
      "rowLimit": 10000
     },
     "inputWidgets": {},
     "nuid": "7c6bb84f-631f-43ab-9532-ba231b23f6d4",
     "showTitle": false,
     "title": ""
    }
   },
   "outputs": [
    {
     "output_type": "stream",
     "name": "stdout",
     "output_type": "stream",
     "text": [
      "+---+------+------+\n| ID|  Name|Salary|\n+---+------+------+\n|  1|Athiya|  4000|\n|  2| Sneha|  6000|\n+---+------+------+\n\n"
     ]
    }
   ],
   "source": [
    "data = [(1 , 'Athiya', 4000),\n",
    "        (2 , 'Sneha' , 6000)]\n",
    "schema = ['ID' , 'Name', 'Salary']\n",
    "df = spark.createDataFrame(data = data , schema = schema)\n",
    "df.show()"
   ]
  },
  {
   "cell_type": "code",
   "execution_count": 0,
   "metadata": {
    "application/vnd.databricks.v1+cell": {
     "cellMetadata": {
      "byteLimit": 2048000,
      "rowLimit": 10000
     },
     "inputWidgets": {},
     "nuid": "804a4d3a-833a-4319-a4f6-a4222e628d4b",
     "showTitle": false,
     "title": ""
    }
   },
   "outputs": [
    {
     "output_type": "stream",
     "name": "stdout",
     "output_type": "stream",
     "text": [
      "+---+------+-------------+\n| ID|  Name|Salary_amount|\n+---+------+-------------+\n|  1|Athiya|         4000|\n|  2| Sneha|         6000|\n+---+------+-------------+\n\n"
     ]
    }
   ],
   "source": [
    "df = df.withColumnRenamed('Salary' , 'Salary_amount')\n",
    "df.show()"
   ]
  },
  {
   "cell_type": "code",
   "execution_count": 0,
   "metadata": {
    "application/vnd.databricks.v1+cell": {
     "cellMetadata": {},
     "inputWidgets": {},
     "nuid": "51579d14-0284-46ec-81cf-c5a46b81eb23",
     "showTitle": false,
     "title": ""
    }
   },
   "outputs": [],
   "source": []
  }
 ],
 "metadata": {
  "application/vnd.databricks.v1+notebook": {
   "dashboards": [],
   "language": "python",
   "notebookMetadata": {
    "pythonIndentUnit": 4
   },
   "notebookName": "withColumnRenamed",
   "widgets": {}
  }
 },
 "nbformat": 4,
 "nbformat_minor": 0
}
